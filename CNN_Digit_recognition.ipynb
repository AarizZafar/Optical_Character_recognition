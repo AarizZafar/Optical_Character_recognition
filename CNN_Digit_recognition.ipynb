{
  "nbformat": 4,
  "nbformat_minor": 0,
  "metadata": {
    "colab": {
      "provenance": [],
      "authorship_tag": "ABX9TyNxHWZwxzEQWx9GUCLF6qpj",
      "include_colab_link": true
    },
    "kernelspec": {
      "name": "python3",
      "display_name": "Python 3"
    },
    "language_info": {
      "name": "python"
    }
  },
  "cells": [
    {
      "cell_type": "markdown",
      "metadata": {
        "id": "view-in-github",
        "colab_type": "text"
      },
      "source": [
        "<a href=\"https://colab.research.google.com/github/AarizZafar/Optical_character_recognition/blob/main/CNN_Digit_recognition.ipynb\" target=\"_parent\"><img src=\"https://colab.research.google.com/assets/colab-badge.svg\" alt=\"Open In Colab\"/></a>"
      ]
    },
    {
      "cell_type": "code",
      "source": [
        "import numpy as np\n",
        "import os\n",
        "import cv2 as cv\n",
        "from random import shuffle\n",
        "from tqdm import tqdm  # to show progress bar\n",
        "import tensorflow as tf\n",
        "# from tensorflow import keras\n",
        "import matplotlib.pyplot as plt\n",
        "import time"
      ],
      "metadata": {
        "id": "_I__M3wAW8PD"
      },
      "execution_count": null,
      "outputs": []
    },
    {
      "cell_type": "markdown",
      "source": [
        "### code used to take screen shot of each numeric input and store in user's local host system\n",
        "\n",
        "\n",
        "image_path = \"D:/codes/soft_computing/numbers/test_data/\"    -> user's local host storage path\n",
        "\n",
        "    for i in range(10):\n",
        "\n",
        "        print(\"going to take screenshot in 3 sec\")\n",
        "\n",
        "        time.sleep(7)\n",
        "\n",
        "        image = pyg.screenshot(region=(48,300,770,450))\n",
        "\n",
        "        image.save(image_path+str(i)+\".png\")\n",
        "\n",
        "        print(\"screen shot taken and save \", str(i),\".png\")"
      ],
      "metadata": {
        "id": "IoveUj6JrhMQ"
      }
    },
    {
      "cell_type": "markdown",
      "source": [
        "GIVING ACCES OF USER DRIVE TO THIS COLAB NOTEBOOK"
      ],
      "metadata": {
        "id": "ajmFa2QEmrmx"
      }
    },
    {
      "cell_type": "code",
      "source": [
        "from google.colab import drive\n",
        "drive.mount(\"/content/drive\")"
      ],
      "metadata": {
        "id": "Q8si_Eshftap",
        "colab": {
          "base_uri": "https://localhost:8080/"
        },
        "outputId": "2d4abcc2-9c73-476c-a006-46248f7f4ded"
      },
      "execution_count": null,
      "outputs": [
        {
          "output_type": "stream",
          "name": "stdout",
          "text": [
            "Drive already mounted at /content/drive; to attempt to forcibly remount, call drive.mount(\"/content/drive\", force_remount=True).\n"
          ]
        }
      ]
    },
    {
      "cell_type": "code",
      "source": [
        "def create_label(image_folder_name):\n",
        "    if image_folder_name == '0':\n",
        "        return 0\n",
        "    elif image_folder_name == '1':\n",
        "        return 1\n",
        "    elif image_folder_name == '2':\n",
        "        return 2\n",
        "    elif image_folder_name == '3':\n",
        "        return 3\n",
        "    elif image_folder_name == '4':\n",
        "        return 4\n",
        "    elif image_folder_name == '5':\n",
        "        return 5\n",
        "    elif image_folder_name == '6':\n",
        "        return 6\n",
        "    elif image_folder_name == '7':\n",
        "        return 7\n",
        "    elif image_folder_name == '8':\n",
        "        return 8\n",
        "    elif image_folder_name == '9':\n",
        "        return 9"
      ],
      "metadata": {
        "id": "d_L5yN47ahx5"
      },
      "execution_count": null,
      "outputs": []
    },
    {
      "cell_type": "markdown",
      "source": [
        "CREATING THE DATA SET FROM USED MADE DATA"
      ],
      "metadata": {
        "id": "F65jLhW0m-3K"
      }
    },
    {
      "cell_type": "code",
      "source": [
        "folder_path = \"/content/drive/MyDrive/ALL_IN_ONE/soft_computing/project /data/numbers\"\n",
        "\n",
        "def create_data():\n",
        "    data = []\n",
        "    for folder in tqdm(os.listdir(folder_path)):\n",
        "        print(folder)\n",
        "        for image in os.listdir(folder_path + '/' + folder):\n",
        "            # print(image)\n",
        "            image_path = os.path.join(folder_path,folder,image)\n",
        "            image_data = cv.imread(image_path, cv.IMREAD_GRAYSCALE)\n",
        "            try:\n",
        "              image_data = cv.resize(image_data,(28,28))\n",
        "            except cv.error as error:\n",
        "              continue\n",
        "            data.append([np.array(image_data),create_label(folder)])\n",
        "    shuffle(data)\n",
        "    return data"
      ],
      "metadata": {
        "id": "PAHA1YlkcU4K"
      },
      "execution_count": null,
      "outputs": []
    },
    {
      "cell_type": "markdown",
      "source": [
        "TRAINING DATA SET IS BASED ON HAND WRITTEN DIGIT CREATED BY THE ***USED HIMSELF***"
      ],
      "metadata": {
        "id": "8JvCqNZlmH-3"
      }
    },
    {
      "cell_type": "code",
      "source": [
        "data = create_data()"
      ],
      "metadata": {
        "id": "l1r_7eXddCte"
      },
      "execution_count": 4,
      "outputs": []
    },
    {
      "cell_type": "markdown",
      "source": [
        "DIVIDING THE DATA INTO TRAINING AND TEST DATA SET"
      ],
      "metadata": {
        "id": "szGRlYxzn9EB"
      }
    },
    {
      "cell_type": "code",
      "source": [
        "train_data, test_data = data[:899],data[899:]\n",
        "\n",
        "print(\"train_data shape : \" , len(train_data))\n",
        "print(\"\\ntest_data : \", len(test_data), \"\\n-------------------------\")\n",
        "\n",
        "#----------------- < TRAIN DATA SPLIT > -----------------------------\n",
        "x_train = np.array([data[0] for data in train_data])\n",
        "x_train = x_train.reshape(len(x_train),28,28,1)\n",
        "y_train = [data[1] for data in train_data]\n",
        "y_train = np.array(y_train)\n",
        "\n",
        "#----------------- < TEST DATA SPLIT > ------------------------------\n",
        "x_test = np.array([data[0] for data in test_data])\n",
        "x_test = x_test.reshape(len(x_test),28,28,1)\n",
        "y_test = [data[1] for data in test_data]\n",
        "y_test = np.array(y_test)\n",
        "\n",
        "#-------------------------------------------------------\n",
        "\n",
        "print(\"x_train shape : \", np.shape(x_train),\n",
        "      \"\\ny_train shape : \" , np.shape(y_train),\n",
        "      \"\\nx_test shape : \", np.shape(x_test),\n",
        "      \"\\ny_test shape : \", np.shape(y_test))"
      ],
      "metadata": {
        "id": "7BrzKWN8bS70",
        "colab": {
          "base_uri": "https://localhost:8080/"
        },
        "outputId": "51ce3e49-5e9c-4377-bc3f-64c7f6222b37"
      },
      "execution_count": null,
      "outputs": [
        {
          "output_type": "stream",
          "name": "stdout",
          "text": [
            "train_data shape :  899\n",
            "\n",
            "test_data :  100 \n",
            "-------------------------\n",
            "x_train shape :  (899, 28, 28, 1) \n",
            "y_train shape :  (899,) \n",
            "x_test shape :  (100, 28, 28, 1) \n",
            "y_test shape :  (100,)\n"
          ]
        }
      ]
    },
    {
      "cell_type": "markdown",
      "source": [
        "## -------------------------------------------------------- < BUILDING THE MODEL > ------------------------------------------------------------\n",
        "\n"
      ],
      "metadata": {
        "id": "1tGfTFSGtTEW"
      }
    },
    {
      "cell_type": "markdown",
      "source": [
        " ***`reason to use relu ->`***\n",
        "\n",
        "1) efficient to compute [max(0,value)]\n",
        "\n",
        "2) increase generalization performance models are less likely to overfit the training data and generalize will on new data.\n",
        "\n",
        "#### ***Output Layer ->***\n",
        "\n",
        "> The output layer will have 10 neurons that represent each digit 0,1,2,3,4,5,6,7,8,9\n",
        "\n",
        "\n",
        "> The activation function used will be softmax\n",
        "\n",
        "\n",
        "***`reason to use softmax ->`***\n",
        "\n",
        "1) commonly used in output layer of neural network\n",
        "\n",
        "2) takes input of real number and gives an output of probability.\n",
        "\n",
        "3) Each probability of a neuron represents that the input belongs to a certain class.\n",
        "\n",
        "4) The sum of probabily of each neuron will sum up to 1."
      ],
      "metadata": {
        "id": "MUh0DEMfolDT"
      }
    },
    {
      "cell_type": "code",
      "source": [
        "model = tf.keras.Sequential()\n",
        "\n",
        "# This is the input layer\n",
        "model.add(tf.keras.layers.Conv2D(64,(3,3),input_shape=(28,28,1), activation='relu'))\n",
        "model.add(tf.keras.layers.MaxPooling2D(2,2))\n",
        "\n",
        "# 2nd convo layer\n",
        "model.add(tf.keras.layers.Conv2D(64,(3,3),activation='relu'))\n",
        "model.add(tf.keras.layers.MaxPooling2D(2,2))\n",
        "\n",
        "# 3rd convo layer\n",
        "model.add(tf.keras.layers.Conv2D(32,(3,3),activation='relu'))\n",
        "model.add(tf.keras.layers.MaxPooling2D(2,2))\n",
        "\n",
        "# fulley connected layer 1\n",
        "model.add(tf.keras.layers.Flatten())\n",
        "model.add(tf.keras.layers.Dense(128,activation='relu'))\n",
        "\n",
        "# fulley connected layer 2\n",
        "model.add(tf.keras.layers.Dense(128,activation='relu'))\n",
        "\n",
        "# final output layer\n",
        "model.add(tf.keras.layers.Dense(10,activation='softmax'))"
      ],
      "metadata": {
        "id": "9uQ_WoI7nnvr"
      },
      "execution_count": null,
      "outputs": []
    },
    {
      "cell_type": "markdown",
      "source": [
        "GIVING THE MODEL SUMMARY"
      ],
      "metadata": {
        "id": "dk7o7YO1n0HC"
      }
    },
    {
      "cell_type": "code",
      "source": [
        "model.summary()"
      ],
      "metadata": {
        "id": "DJPFwOFgz3FG",
        "colab": {
          "base_uri": "https://localhost:8080/"
        },
        "outputId": "fad2f76c-470b-469b-b792-99212b1d7d4c"
      },
      "execution_count": null,
      "outputs": [
        {
          "output_type": "stream",
          "name": "stdout",
          "text": [
            "Model: \"sequential_2\"\n",
            "_________________________________________________________________\n",
            " Layer (type)                Output Shape              Param #   \n",
            "=================================================================\n",
            " conv2d_6 (Conv2D)           (None, 26, 26, 64)        640       \n",
            "                                                                 \n",
            " max_pooling2d_6 (MaxPoolin  (None, 13, 13, 64)        0         \n",
            " g2D)                                                            \n",
            "                                                                 \n",
            " conv2d_7 (Conv2D)           (None, 11, 11, 64)        36928     \n",
            "                                                                 \n",
            " max_pooling2d_7 (MaxPoolin  (None, 5, 5, 64)          0         \n",
            " g2D)                                                            \n",
            "                                                                 \n",
            " conv2d_8 (Conv2D)           (None, 3, 3, 32)          18464     \n",
            "                                                                 \n",
            " max_pooling2d_8 (MaxPoolin  (None, 1, 1, 32)          0         \n",
            " g2D)                                                            \n",
            "                                                                 \n",
            " flatten_2 (Flatten)         (None, 32)                0         \n",
            "                                                                 \n",
            " dense_6 (Dense)             (None, 128)               4224      \n",
            "                                                                 \n",
            " dense_7 (Dense)             (None, 128)               16512     \n",
            "                                                                 \n",
            " dense_8 (Dense)             (None, 10)                1290      \n",
            "                                                                 \n",
            "=================================================================\n",
            "Total params: 78058 (304.91 KB)\n",
            "Trainable params: 78058 (304.91 KB)\n",
            "Non-trainable params: 0 (0.00 Byte)\n",
            "_________________________________________________________________\n"
          ]
        }
      ]
    },
    {
      "cell_type": "markdown",
      "source": [
        "<u> COMPILING THE MODEL ->\n",
        "\n",
        "\n"
      ],
      "metadata": {
        "id": "3MuzAHmolBTK"
      }
    },
    {
      "cell_type": "markdown",
      "source": [
        "loss function = sparse categorical crossentropy\n",
        "\n",
        "***`Reason to use -> `***\n",
        "\n",
        "1) Good choice to use where we have multiple number of classes where the labels are integers.\n",
        "2) we are classifying our inputs, which means our input belongs to one numeric class. The labels for image classification problems are typically integers representing the class of text.\n",
        "\n",
        "metric = 'accuracy'\n",
        "\n",
        "***`Reason to use ->`***\n",
        "\n",
        "1) The model can predict some right and some wrong"
      ],
      "metadata": {
        "id": "46j5P45loSH1"
      }
    },
    {
      "cell_type": "code",
      "source": [
        "model.compile(loss='sparse_categorical_crossentropy',optimizer='adam',metrics=['accuracy'])"
      ],
      "metadata": {
        "id": "K_X9gV5p4dLm"
      },
      "execution_count": null,
      "outputs": []
    },
    {
      "cell_type": "markdown",
      "source": [
        "FITTING (TRAINING) THE MODEL WITH TRAIN AND TEST DATA ->"
      ],
      "metadata": {
        "id": "N90GhOJDlFpw"
      }
    },
    {
      "cell_type": "code",
      "source": [
        "model.fit(x_train,y_train,batch_size=10,epochs=7)\n",
        "print(np.shape(x_train),np.shape(y_train))"
      ],
      "metadata": {
        "colab": {
          "base_uri": "https://localhost:8080/"
        },
        "id": "o-FPA1iESIhw",
        "outputId": "e93f1acf-c521-467c-e412-ce40e5a850f4"
      },
      "execution_count": null,
      "outputs": [
        {
          "output_type": "stream",
          "name": "stdout",
          "text": [
            "Epoch 1/7\n",
            "90/90 [==============================] - 3s 16ms/step - loss: 1.5308 - accuracy: 0.6307\n",
            "Epoch 2/7\n",
            "90/90 [==============================] - 1s 16ms/step - loss: 0.2198 - accuracy: 0.9388\n",
            "Epoch 3/7\n",
            "90/90 [==============================] - 1s 16ms/step - loss: 0.1816 - accuracy: 0.9444\n",
            "Epoch 4/7\n",
            "90/90 [==============================] - 1s 16ms/step - loss: 0.0829 - accuracy: 0.9778\n",
            "Epoch 5/7\n",
            "90/90 [==============================] - 1s 16ms/step - loss: 0.0502 - accuracy: 0.9844\n",
            "Epoch 6/7\n",
            "90/90 [==============================] - 2s 21ms/step - loss: 0.0769 - accuracy: 0.9778\n",
            "Epoch 7/7\n",
            "90/90 [==============================] - 2s 25ms/step - loss: 0.0552 - accuracy: 0.9822\n",
            "(899, 28, 28, 1) (899,)\n"
          ]
        }
      ]
    },
    {
      "cell_type": "markdown",
      "source": [
        "CREATING A SEPERATE DATA SET CREATED BY THE USED TO GIVE THE MODEL A\n",
        "\n",
        "\n",
        "### ***COMPLETE NEW TEST DATA.***"
      ],
      "metadata": {
        "id": "H6xDvpACkid8"
      }
    },
    {
      "cell_type": "code",
      "source": [
        "def hand_written_test_data():\n",
        "    data = []\n",
        "    # user drive path provided\n",
        "    for image in tqdm(os.listdir(\"/content/drive/MyDrive/soft_computing/project /data/test_data\")):\n",
        "        image_path = os.path.join(\"/content/drive/MyDrive/soft_computing/project /data/test_data\",image)\n",
        "\n",
        "        image_data = cv.imread(image_path, cv.IMREAD_GRAYSCALE)\n",
        "        image_number = image.split('.')[0]\n",
        "        try:\n",
        "            image_data = cv.resize(image_data,(28,28))\n",
        "        except cv.error as error:\n",
        "            continue\n",
        "        data.append([np.array(image_data),image_number])\n",
        "    shuffle(data)\n",
        "    return data"
      ],
      "metadata": {
        "id": "9xerR4wZFres"
      },
      "execution_count": null,
      "outputs": []
    },
    {
      "cell_type": "markdown",
      "source": [
        "CREATING THE DATA SET ->"
      ],
      "metadata": {
        "id": "-zVZkTVAncbq"
      }
    },
    {
      "cell_type": "code",
      "source": [
        "hand_written_test_data = hand_written_test_data()"
      ],
      "metadata": {
        "colab": {
          "base_uri": "https://localhost:8080/"
        },
        "id": "uoZKH6SzF250",
        "outputId": "9fa3bef5-75b2-412f-f0b1-87aafb93bd8a"
      },
      "execution_count": null,
      "outputs": [
        {
          "output_type": "stream",
          "name": "stderr",
          "text": [
            "100%|██████████| 10/10 [00:00<00:00, 100.16it/s]\n"
          ]
        }
      ]
    },
    {
      "cell_type": "markdown",
      "source": [
        "VISUALIZING THE OUTPUT WITH THE NEW DATA SET PROVIDED BY THE USER ->"
      ],
      "metadata": {
        "id": "MM7c0KJ_nj5W"
      }
    },
    {
      "cell_type": "code",
      "source": [
        "#------------- < CREATING GRID TO SHOW ALL OUTPUTS > --------------------------------------------------\n",
        "output_grid = plt.figure(figsize=(8,8))\n",
        "\n",
        "for image_number, image_data in enumerate(hand_written_test_data):\n",
        "    image_data = image_data[0]\n",
        "    image_data_copy = image_data\n",
        "\n",
        "#------------- < RESHAPING IMAGE DATA TO PASS IT INTO MODEL AND PERFORMING PREDICTIONS > ---------------\n",
        "    image_data = np.reshape(image_data,(1,28,28,1))   # ( BATCH_SIZE, HEIGHT, WIDTH, CHANNEL ) ACCEPTED MODEL INPUT\n",
        "    prediction = model.predict([image_data])\n",
        "\n",
        "#------------- < ADDING THE RESULT TO THE SUB PLOT (OUTPUT GRID) > --------------------------------------\n",
        "    output_image = output_grid.add_subplot(5,5,image_number+1)\n",
        "\n",
        "    str_output = \"prediction : \" + str(np.argmax(prediction))\n",
        "    output_image.imshow(image_data_copy,cmap='gray')\n",
        "    plt.title(str_output)\n",
        "\n",
        "# ------------- < REMOVING THE X,Y AXIS LABELS > -------------------------------------------------------\n",
        "    output_image.axes.get_xaxis().set_visible(False)\n",
        "    output_image.axes.get_yaxis().set_visible(False)\n",
        "\n",
        "plt.show()"
      ],
      "metadata": {
        "colab": {
          "base_uri": "https://localhost:8080/",
          "height": 466
        },
        "id": "Fb6Q5YWdHE8-",
        "outputId": "cc73ada4-d596-41e4-ee3e-237c3bb8e414"
      },
      "execution_count": null,
      "outputs": [
        {
          "output_type": "stream",
          "name": "stdout",
          "text": [
            "1/1 [==============================] - 0s 102ms/step\n",
            "1/1 [==============================] - 0s 23ms/step\n",
            "1/1 [==============================] - 0s 21ms/step\n",
            "1/1 [==============================] - 0s 25ms/step\n",
            "1/1 [==============================] - 0s 21ms/step\n",
            "1/1 [==============================] - 0s 20ms/step\n",
            "1/1 [==============================] - 0s 21ms/step\n",
            "1/1 [==============================] - 0s 20ms/step\n",
            "1/1 [==============================] - 0s 31ms/step\n",
            "1/1 [==============================] - 0s 21ms/step\n"
          ]
        },
        {
          "output_type": "display_data",
          "data": {
            "text/plain": [
              "<Figure size 800x800 with 10 Axes>"
            ],
            "image/png": "[encoded data removed]"
          },
          "metadata": {}
        }
      ]
    },
    {
      "cell_type": "code",
      "source": [],
      "metadata": {
        "id": "CWPaBYSJm_Ci"
      },
      "execution_count": null,
      "outputs": []
    }
  ]
}